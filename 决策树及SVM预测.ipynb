{
 "cells": [
  {
   "cell_type": "code",
   "execution_count": 1,
   "id": "5541d490",
   "metadata": {
    "scrolled": true
   },
   "outputs": [
    {
     "name": "stderr",
     "output_type": "stream",
     "text": [
      "<frozen importlib._bootstrap>:228: RuntimeWarning: scipy._lib.messagestream.MessageStream size changed, may indicate binary incompatibility. Expected 56 from C header, got 64 from PyObject\n"
     ]
    }
   ],
   "source": [
    "import sklearn as sk\n",
    "import pandas as pd\n",
    "import matplotlib.pyplot as plt\n",
    "import numpy as np\n",
    "import datetime\n",
    "import time"
   ]
  },
  {
   "cell_type": "code",
   "execution_count": 2,
   "id": "196a2d7c",
   "metadata": {},
   "outputs": [
    {
     "data": {
      "text/html": [
       "<div>\n",
       "<style scoped>\n",
       "    .dataframe tbody tr th:only-of-type {\n",
       "        vertical-align: middle;\n",
       "    }\n",
       "\n",
       "    .dataframe tbody tr th {\n",
       "        vertical-align: top;\n",
       "    }\n",
       "\n",
       "    .dataframe thead th {\n",
       "        text-align: right;\n",
       "    }\n",
       "</style>\n",
       "<table border=\"1\" class=\"dataframe\">\n",
       "  <thead>\n",
       "    <tr style=\"text-align: right;\">\n",
       "      <th></th>\n",
       "      <th>updowm</th>\n",
       "      <th>振幅</th>\n",
       "      <th>涨跌幅</th>\n",
       "      <th>换手率</th>\n",
       "      <th>MA5</th>\n",
       "      <th>MA20</th>\n",
       "      <th>RSV</th>\n",
       "      <th>K</th>\n",
       "      <th>D</th>\n",
       "      <th>J</th>\n",
       "      <th>DIF</th>\n",
       "      <th>DEA</th>\n",
       "      <th>MACD</th>\n",
       "      <th>RSI6</th>\n",
       "      <th>RSI12</th>\n",
       "      <th>CCI 14</th>\n",
       "      <th>OBV</th>\n",
       "      <th>BOLLMID</th>\n",
       "      <th>BOLLUPPER</th>\n",
       "      <th>BOLLLOWER</th>\n",
       "    </tr>\n",
       "  </thead>\n",
       "  <tbody>\n",
       "    <tr>\n",
       "      <th>0</th>\n",
       "      <td>1</td>\n",
       "      <td>1.83</td>\n",
       "      <td>-0.41</td>\n",
       "      <td>0.92</td>\n",
       "      <td>19.652</td>\n",
       "      <td>19.5270</td>\n",
       "      <td>79.878049</td>\n",
       "      <td>80.642486</td>\n",
       "      <td>75.104939</td>\n",
       "      <td>91.717581</td>\n",
       "      <td>-0.167664</td>\n",
       "      <td>-0.249047</td>\n",
       "      <td>0.162765</td>\n",
       "      <td>54.181109</td>\n",
       "      <td>49.427043</td>\n",
       "      <td>57.415079</td>\n",
       "      <td>-226454</td>\n",
       "      <td>19.5270</td>\n",
       "      <td>20.593664</td>\n",
       "      <td>18.460336</td>\n",
       "    </tr>\n",
       "    <tr>\n",
       "      <th>1</th>\n",
       "      <td>1</td>\n",
       "      <td>3.62</td>\n",
       "      <td>2.04</td>\n",
       "      <td>1.27</td>\n",
       "      <td>19.710</td>\n",
       "      <td>19.4865</td>\n",
       "      <td>93.333333</td>\n",
       "      <td>84.872769</td>\n",
       "      <td>78.360882</td>\n",
       "      <td>97.896541</td>\n",
       "      <td>-0.115555</td>\n",
       "      <td>-0.222348</td>\n",
       "      <td>0.213587</td>\n",
       "      <td>65.356418</td>\n",
       "      <td>54.866154</td>\n",
       "      <td>105.018272</td>\n",
       "      <td>-52269</td>\n",
       "      <td>19.4865</td>\n",
       "      <td>20.394575</td>\n",
       "      <td>18.578425</td>\n",
       "    </tr>\n",
       "    <tr>\n",
       "      <th>2</th>\n",
       "      <td>0</td>\n",
       "      <td>4.10</td>\n",
       "      <td>2.00</td>\n",
       "      <td>1.24</td>\n",
       "      <td>19.896</td>\n",
       "      <td>19.4860</td>\n",
       "      <td>92.708333</td>\n",
       "      <td>87.484624</td>\n",
       "      <td>81.402129</td>\n",
       "      <td>99.649612</td>\n",
       "      <td>-0.041502</td>\n",
       "      <td>-0.186179</td>\n",
       "      <td>0.289354</td>\n",
       "      <td>73.200231</td>\n",
       "      <td>59.605520</td>\n",
       "      <td>146.317531</td>\n",
       "      <td>117835</td>\n",
       "      <td>19.4860</td>\n",
       "      <td>20.391896</td>\n",
       "      <td>18.580104</td>\n",
       "    </tr>\n",
       "    <tr>\n",
       "      <th>3</th>\n",
       "      <td>0</td>\n",
       "      <td>4.75</td>\n",
       "      <td>-1.27</td>\n",
       "      <td>1.25</td>\n",
       "      <td>19.984</td>\n",
       "      <td>19.4920</td>\n",
       "      <td>61.375661</td>\n",
       "      <td>78.781636</td>\n",
       "      <td>80.528632</td>\n",
       "      <td>75.287645</td>\n",
       "      <td>-0.003752</td>\n",
       "      <td>-0.149694</td>\n",
       "      <td>0.291884</td>\n",
       "      <td>62.213173</td>\n",
       "      <td>55.474890</td>\n",
       "      <td>139.382920</td>\n",
       "      <td>-53905</td>\n",
       "      <td>19.4920</td>\n",
       "      <td>20.414778</td>\n",
       "      <td>18.569222</td>\n",
       "    </tr>\n",
       "    <tr>\n",
       "      <th>4</th>\n",
       "      <td>1</td>\n",
       "      <td>3.47</td>\n",
       "      <td>-2.38</td>\n",
       "      <td>0.80</td>\n",
       "      <td>19.980</td>\n",
       "      <td>19.4890</td>\n",
       "      <td>25.308642</td>\n",
       "      <td>60.957305</td>\n",
       "      <td>74.004856</td>\n",
       "      <td>34.862202</td>\n",
       "      <td>-0.012423</td>\n",
       "      <td>-0.122239</td>\n",
       "      <td>0.219633</td>\n",
       "      <td>46.688351</td>\n",
       "      <td>48.680627</td>\n",
       "      <td>44.100930</td>\n",
       "      <td>-163651</td>\n",
       "      <td>19.4890</td>\n",
       "      <td>20.408769</td>\n",
       "      <td>18.569231</td>\n",
       "    </tr>\n",
       "    <tr>\n",
       "      <th>...</th>\n",
       "      <td>...</td>\n",
       "      <td>...</td>\n",
       "      <td>...</td>\n",
       "      <td>...</td>\n",
       "      <td>...</td>\n",
       "      <td>...</td>\n",
       "      <td>...</td>\n",
       "      <td>...</td>\n",
       "      <td>...</td>\n",
       "      <td>...</td>\n",
       "      <td>...</td>\n",
       "      <td>...</td>\n",
       "      <td>...</td>\n",
       "      <td>...</td>\n",
       "      <td>...</td>\n",
       "      <td>...</td>\n",
       "      <td>...</td>\n",
       "      <td>...</td>\n",
       "      <td>...</td>\n",
       "      <td>...</td>\n",
       "    </tr>\n",
       "    <tr>\n",
       "      <th>2156</th>\n",
       "      <td>0</td>\n",
       "      <td>1.90</td>\n",
       "      <td>0.46</td>\n",
       "      <td>0.53</td>\n",
       "      <td>54.200</td>\n",
       "      <td>52.4245</td>\n",
       "      <td>80.555556</td>\n",
       "      <td>84.060376</td>\n",
       "      <td>81.407893</td>\n",
       "      <td>89.365344</td>\n",
       "      <td>0.715365</td>\n",
       "      <td>0.393055</td>\n",
       "      <td>0.644619</td>\n",
       "      <td>79.186993</td>\n",
       "      <td>69.045539</td>\n",
       "      <td>123.824630</td>\n",
       "      <td>25848582</td>\n",
       "      <td>52.4245</td>\n",
       "      <td>54.932126</td>\n",
       "      <td>49.916874</td>\n",
       "    </tr>\n",
       "    <tr>\n",
       "      <th>2157</th>\n",
       "      <td>0</td>\n",
       "      <td>3.04</td>\n",
       "      <td>-2.00</td>\n",
       "      <td>0.53</td>\n",
       "      <td>54.330</td>\n",
       "      <td>52.5535</td>\n",
       "      <td>54.137116</td>\n",
       "      <td>74.085956</td>\n",
       "      <td>78.967247</td>\n",
       "      <td>64.323374</td>\n",
       "      <td>0.697935</td>\n",
       "      <td>0.454031</td>\n",
       "      <td>0.487807</td>\n",
       "      <td>54.951124</td>\n",
       "      <td>57.841573</td>\n",
       "      <td>80.582940</td>\n",
       "      <td>25776168</td>\n",
       "      <td>52.5535</td>\n",
       "      <td>55.065671</td>\n",
       "      <td>50.041329</td>\n",
       "    </tr>\n",
       "    <tr>\n",
       "      <th>2158</th>\n",
       "      <td>0</td>\n",
       "      <td>2.01</td>\n",
       "      <td>-0.63</td>\n",
       "      <td>0.47</td>\n",
       "      <td>54.282</td>\n",
       "      <td>52.6785</td>\n",
       "      <td>43.564356</td>\n",
       "      <td>63.912090</td>\n",
       "      <td>73.948861</td>\n",
       "      <td>43.838546</td>\n",
       "      <td>0.649202</td>\n",
       "      <td>0.493066</td>\n",
       "      <td>0.312274</td>\n",
       "      <td>49.349025</td>\n",
       "      <td>54.840921</td>\n",
       "      <td>32.139078</td>\n",
       "      <td>25711445</td>\n",
       "      <td>52.6785</td>\n",
       "      <td>55.104120</td>\n",
       "      <td>50.252880</td>\n",
       "    </tr>\n",
       "    <tr>\n",
       "      <th>2159</th>\n",
       "      <td>0</td>\n",
       "      <td>1.12</td>\n",
       "      <td>-0.47</td>\n",
       "      <td>0.31</td>\n",
       "      <td>54.004</td>\n",
       "      <td>52.7565</td>\n",
       "      <td>34.114583</td>\n",
       "      <td>53.979588</td>\n",
       "      <td>67.292437</td>\n",
       "      <td>27.353889</td>\n",
       "      <td>0.583681</td>\n",
       "      <td>0.511189</td>\n",
       "      <td>0.144984</td>\n",
       "      <td>45.276279</td>\n",
       "      <td>52.650015</td>\n",
       "      <td>15.125516</td>\n",
       "      <td>25668974</td>\n",
       "      <td>52.7565</td>\n",
       "      <td>55.142876</td>\n",
       "      <td>50.370124</td>\n",
       "    </tr>\n",
       "    <tr>\n",
       "      <th>2160</th>\n",
       "      <td>0</td>\n",
       "      <td>3.23</td>\n",
       "      <td>-3.48</td>\n",
       "      <td>0.66</td>\n",
       "      <td>53.346</td>\n",
       "      <td>52.6995</td>\n",
       "      <td>1.793722</td>\n",
       "      <td>36.584299</td>\n",
       "      <td>57.056391</td>\n",
       "      <td>-4.359885</td>\n",
       "      <td>0.378116</td>\n",
       "      <td>0.484574</td>\n",
       "      <td>-0.212916</td>\n",
       "      <td>26.128048</td>\n",
       "      <td>39.810762</td>\n",
       "      <td>-94.923951</td>\n",
       "      <td>25578331</td>\n",
       "      <td>52.6995</td>\n",
       "      <td>55.164826</td>\n",
       "      <td>50.234174</td>\n",
       "    </tr>\n",
       "  </tbody>\n",
       "</table>\n",
       "<p>2161 rows × 20 columns</p>\n",
       "</div>"
      ],
      "text/plain": [
       "      updowm    振幅   涨跌幅   换手率     MA5     MA20        RSV          K  \\\n",
       "0          1  1.83 -0.41  0.92  19.652  19.5270  79.878049  80.642486   \n",
       "1          1  3.62  2.04  1.27  19.710  19.4865  93.333333  84.872769   \n",
       "2          0  4.10  2.00  1.24  19.896  19.4860  92.708333  87.484624   \n",
       "3          0  4.75 -1.27  1.25  19.984  19.4920  61.375661  78.781636   \n",
       "4          1  3.47 -2.38  0.80  19.980  19.4890  25.308642  60.957305   \n",
       "...      ...   ...   ...   ...     ...      ...        ...        ...   \n",
       "2156       0  1.90  0.46  0.53  54.200  52.4245  80.555556  84.060376   \n",
       "2157       0  3.04 -2.00  0.53  54.330  52.5535  54.137116  74.085956   \n",
       "2158       0  2.01 -0.63  0.47  54.282  52.6785  43.564356  63.912090   \n",
       "2159       0  1.12 -0.47  0.31  54.004  52.7565  34.114583  53.979588   \n",
       "2160       0  3.23 -3.48  0.66  53.346  52.6995   1.793722  36.584299   \n",
       "\n",
       "              D          J       DIF       DEA      MACD       RSI6  \\\n",
       "0     75.104939  91.717581 -0.167664 -0.249047  0.162765  54.181109   \n",
       "1     78.360882  97.896541 -0.115555 -0.222348  0.213587  65.356418   \n",
       "2     81.402129  99.649612 -0.041502 -0.186179  0.289354  73.200231   \n",
       "3     80.528632  75.287645 -0.003752 -0.149694  0.291884  62.213173   \n",
       "4     74.004856  34.862202 -0.012423 -0.122239  0.219633  46.688351   \n",
       "...         ...        ...       ...       ...       ...        ...   \n",
       "2156  81.407893  89.365344  0.715365  0.393055  0.644619  79.186993   \n",
       "2157  78.967247  64.323374  0.697935  0.454031  0.487807  54.951124   \n",
       "2158  73.948861  43.838546  0.649202  0.493066  0.312274  49.349025   \n",
       "2159  67.292437  27.353889  0.583681  0.511189  0.144984  45.276279   \n",
       "2160  57.056391  -4.359885  0.378116  0.484574 -0.212916  26.128048   \n",
       "\n",
       "          RSI12      CCI 14       OBV  BOLLMID  BOLLUPPER  BOLLLOWER  \n",
       "0     49.427043   57.415079   -226454  19.5270  20.593664  18.460336  \n",
       "1     54.866154  105.018272    -52269  19.4865  20.394575  18.578425  \n",
       "2     59.605520  146.317531    117835  19.4860  20.391896  18.580104  \n",
       "3     55.474890  139.382920    -53905  19.4920  20.414778  18.569222  \n",
       "4     48.680627   44.100930   -163651  19.4890  20.408769  18.569231  \n",
       "...         ...         ...       ...      ...        ...        ...  \n",
       "2156  69.045539  123.824630  25848582  52.4245  54.932126  49.916874  \n",
       "2157  57.841573   80.582940  25776168  52.5535  55.065671  50.041329  \n",
       "2158  54.840921   32.139078  25711445  52.6785  55.104120  50.252880  \n",
       "2159  52.650015   15.125516  25668974  52.7565  55.142876  50.370124  \n",
       "2160  39.810762  -94.923951  25578331  52.6995  55.164826  50.234174  \n",
       "\n",
       "[2161 rows x 20 columns]"
      ]
     },
     "execution_count": 2,
     "metadata": {},
     "output_type": "execute_result"
    }
   ],
   "source": [
    "data= pd.read_excel('600085copy.xlsx')\n",
    "data=data.drop(columns=['Date','Close','Open','High','Low'])\n",
    "data"
   ]
  },
  {
   "cell_type": "code",
   "execution_count": 3,
   "id": "44ac2425",
   "metadata": {},
   "outputs": [],
   "source": [
    "from sklearn.preprocessing import StandardScaler,MinMaxScaler\n",
    "from sklearn.decomposition import PCA\n",
    "pca=PCA()\n",
    "scaler =MinMaxScaler()"
   ]
  },
  {
   "cell_type": "code",
   "execution_count": 4,
   "id": "a5bcd713",
   "metadata": {},
   "outputs": [],
   "source": [
    "X=data.drop(['updowm'],axis=1)\n",
    "Y=data['updowm']"
   ]
  },
  {
   "cell_type": "code",
   "execution_count": 5,
   "id": "7c0b98d5",
   "metadata": {
    "scrolled": false
   },
   "outputs": [],
   "source": [
    "from sklearn.model_selection import train_test_split#用于划分训练集和测试集\n",
    "X_train,X_test,Y_train,Y_test=train_test_split(X,Y,train_size=0.7,shuffle=False)\n",
    "X_train=pca.fit_transform(X_train)\n",
    "X_test=pca.fit_transform(X_test)\n",
    "X_train=scaler.fit_transform(X_train)\n",
    "X_test=scaler.fit_transform(X_test)"
   ]
  },
  {
   "cell_type": "code",
   "execution_count": 6,
   "id": "388037b9",
   "metadata": {},
   "outputs": [],
   "source": [
    "from sklearn import svm, datasets"
   ]
  },
  {
   "cell_type": "code",
   "execution_count": 7,
   "id": "84262831",
   "metadata": {},
   "outputs": [],
   "source": [
    "model2=svm.SVC(kernel='linear',C=3)"
   ]
  },
  {
   "cell_type": "code",
   "execution_count": 8,
   "id": "a2894e2b",
   "metadata": {
    "scrolled": true
   },
   "outputs": [
    {
     "data": {
      "text/plain": [
       "SVC(C=3, kernel='linear')"
      ]
     },
     "execution_count": 8,
     "metadata": {},
     "output_type": "execute_result"
    }
   ],
   "source": [
    "model2.fit(X_train,Y_train)"
   ]
  },
  {
   "cell_type": "code",
   "execution_count": 9,
   "id": "2d5d53cd",
   "metadata": {},
   "outputs": [
    {
     "data": {
      "text/plain": [
       "array([1, 0, 1, 0, 0, 0, 0, 0, 1, 0, 0, 0, 1, 0, 1, 1, 1, 1, 1, 1, 1, 1,\n",
       "       1, 1, 1, 1, 1, 1, 1, 0, 1, 1, 1, 0, 1, 1, 1, 1, 1, 1, 1, 1, 1, 1,\n",
       "       1, 0, 1, 1, 1, 1, 1, 1, 1, 1, 1, 1, 1, 1, 1, 1, 0, 1, 1, 1, 1, 1,\n",
       "       1, 1, 1, 1, 1, 1, 0, 1, 1, 1, 1, 1, 1, 1, 1, 1, 1, 1, 1, 1, 1, 1,\n",
       "       1, 1, 1, 1, 1, 1, 1, 1, 1, 1, 1, 1, 1, 1, 1, 1, 1, 1, 1, 1, 1, 1,\n",
       "       1, 1, 1, 1, 1, 1, 1, 1, 1, 1, 1, 1, 1, 1, 1, 1, 1, 0, 1, 1, 1, 1,\n",
       "       1, 1, 1, 0, 1, 1, 1, 0, 0, 0, 1, 1, 1, 1, 1, 1, 1, 1, 1, 1, 1, 0,\n",
       "       1, 1, 1, 0, 0, 0, 0, 0, 0, 0, 0, 0, 1, 1, 1, 1, 1, 1, 1, 1, 1, 1,\n",
       "       1, 1, 1, 1, 0, 1, 1, 1, 1, 1, 1, 1, 1, 1, 1, 0, 0, 0, 0, 1, 1, 1,\n",
       "       1, 1, 1, 1, 1, 1, 1, 1, 1, 1, 1, 1, 1, 1, 1, 1, 1, 1, 1, 1, 1, 1,\n",
       "       1, 1, 1, 1, 1, 1, 1, 1, 1, 1, 1, 1, 1, 1, 1, 1, 1, 1, 0, 1, 0, 0,\n",
       "       0, 0, 1, 1, 0, 0, 1, 1, 1, 1, 1, 0, 1, 1, 0, 0, 0, 1, 1, 0, 1, 1,\n",
       "       0, 0, 0, 1, 0, 0, 0, 0, 0, 1, 0, 1, 0, 0, 1, 0, 1, 1, 1, 1, 1, 1,\n",
       "       1, 1, 1, 1, 1, 1, 1, 1, 1, 1, 0, 1, 0, 0, 1, 0, 0, 0, 0, 0, 1, 1,\n",
       "       1, 1, 1, 0, 1, 1, 1, 1, 0, 1, 0, 1, 1, 1, 1, 1, 1, 1, 1, 1, 1, 1,\n",
       "       1, 1, 1, 1, 1, 1, 1, 1, 1, 0, 1, 0, 0, 1, 1, 1, 0, 1, 0, 0, 0, 1,\n",
       "       0, 0, 1, 1, 1, 1, 1, 1, 1, 1, 1, 1, 1, 1, 1, 1, 1, 1, 1, 1, 1, 1,\n",
       "       0, 0, 0, 0, 0, 1, 1, 1, 1, 1, 1, 1, 1, 1, 1, 1, 1, 1, 1, 1, 1, 1,\n",
       "       1, 1, 1, 1, 1, 0, 1, 1, 1, 0, 1, 1, 1, 1, 1, 1, 1, 1, 1, 1, 1, 1,\n",
       "       1, 1, 1, 1, 1, 1, 1, 1, 0, 1, 1, 0, 0, 1, 1, 1, 1, 0, 0, 1, 1, 1,\n",
       "       1, 1, 1, 1, 1, 1, 1, 0, 1, 1, 1, 1, 0, 1, 1, 0, 0, 0, 0, 0, 0, 0,\n",
       "       0, 0, 0, 1, 1, 1, 0, 1, 1, 0, 1, 0, 0, 1, 0, 0, 0, 1, 0, 0, 0, 0,\n",
       "       0, 1, 1, 1, 1, 1, 0, 0, 0, 0, 0, 1, 1, 0, 0, 1, 1, 1, 1, 1, 1, 1,\n",
       "       1, 1, 1, 1, 0, 1, 1, 1, 0, 1, 0, 0, 1, 0, 1, 1, 1, 1, 1, 1, 1, 1,\n",
       "       1, 1, 1, 1, 1, 1, 1, 1, 1, 1, 1, 1, 1, 0, 1, 1, 0, 0, 0, 0, 0, 0,\n",
       "       0, 0, 1, 1, 1, 0, 1, 1, 1, 0, 1, 0, 1, 1, 1, 1, 1, 1, 1, 1, 1, 1,\n",
       "       1, 0, 0, 1, 1, 0, 0, 1, 0, 0, 1, 1, 1, 1, 1, 1, 1, 1, 1, 1, 1, 1,\n",
       "       1, 1, 0, 0, 1, 1, 1, 1, 1, 1, 1, 1, 1, 1, 0, 1, 1, 0, 0, 1, 0, 0,\n",
       "       0, 0, 0, 1, 0, 1, 1, 1, 1, 1, 1, 1, 0, 1, 1, 1, 0, 1, 0, 0, 1, 0,\n",
       "       1, 0, 0, 0, 0, 1, 0, 1, 1, 1, 1])"
      ]
     },
     "execution_count": 9,
     "metadata": {},
     "output_type": "execute_result"
    }
   ],
   "source": [
    "pred=model2.predict(X_test)\n",
    "pred"
   ]
  },
  {
   "cell_type": "code",
   "execution_count": 10,
   "id": "fd33bc24",
   "metadata": {
    "scrolled": true
   },
   "outputs": [
    {
     "name": "stdout",
     "output_type": "stream",
     "text": [
      "              precision    recall  f1-score   support\n",
      "\n",
      "           0       0.54      0.28      0.37       327\n",
      "           1       0.51      0.76      0.61       322\n",
      "\n",
      "    accuracy                           0.52       649\n",
      "   macro avg       0.53      0.52      0.49       649\n",
      "weighted avg       0.53      0.52      0.49       649\n",
      "\n"
     ]
    }
   ],
   "source": [
    "from sklearn.metrics import classification_report,confusion_matrix, ConfusionMatrixDisplay\n",
    "print(classification_report(Y_test,pred))"
   ]
  },
  {
   "cell_type": "code",
   "execution_count": 11,
   "id": "32fae14c",
   "metadata": {},
   "outputs": [
    {
     "data": {
      "text/plain": [
       "array([[ 90, 237],\n",
       "       [ 76, 246]])"
      ]
     },
     "execution_count": 11,
     "metadata": {},
     "output_type": "execute_result"
    }
   ],
   "source": [
    "cm=confusion_matrix(Y_test,pred,labels=[0,1])\n",
    "cm"
   ]
  },
  {
   "cell_type": "code",
   "execution_count": 12,
   "id": "951b0b23",
   "metadata": {},
   "outputs": [
    {
     "data": {
      "text/plain": [
       "Text(33.0, 0.5, 'true')"
      ]
     },
     "execution_count": 12,
     "metadata": {},
     "output_type": "execute_result"
    },
    {
     "data": {
      "image/png": "[encoded data removed]",
      "text/plain": [
       "<Figure size 432x288 with 2 Axes>"
      ]
     },
     "metadata": {
      "needs_background": "light"
     },
     "output_type": "display_data"
    }
   ],
   "source": [
    "import seaborn as sn\n",
    "ax = sn.heatmap(cm,annot=True,fmt='.20g',cmap=\"Blues\")\n",
    "ax.set_title('confusion matrix 1') #title\n",
    "ax.set_xlabel('predict') #x axis\n",
    "ax.set_ylabel('true') #y axis"
   ]
  },
  {
   "cell_type": "code",
   "execution_count": 45,
   "id": "86e6f037",
   "metadata": {
    "scrolled": true
   },
   "outputs": [
    {
     "data": {
      "text/plain": [
       "array([0, 0, 1, 0, 0, 0, 0, 0, 0, 0, 0, 0, 0, 0, 0, 0, 1, 0, 0, 0, 0, 0,\n",
       "       1, 0, 0, 1, 1, 0, 1, 0, 0, 1, 0, 0, 1, 0, 1, 1, 1, 0, 0, 0, 0, 0,\n",
       "       1, 0, 0, 0, 1, 1, 1, 1, 0, 0, 0, 0, 0, 0, 0, 1, 0, 1, 1, 1, 1, 0,\n",
       "       1, 0, 1, 0, 0, 0, 0, 1, 1, 1, 1, 0, 1, 1, 0, 1, 1, 1, 1, 1, 1, 0,\n",
       "       1, 0, 0, 0, 0, 1, 1, 1, 0, 0, 0, 1, 1, 1, 1, 1, 0, 1, 0, 0, 1, 0,\n",
       "       0, 0, 0, 0, 0, 0, 0, 0, 1, 0, 0, 0, 0, 0, 0, 0, 0, 0, 0, 0, 0, 1,\n",
       "       0, 1, 0, 0, 0, 0, 0, 0, 0, 0, 0, 0, 0, 0, 0, 0, 0, 0, 1, 0, 1, 0,\n",
       "       0, 0, 0, 0, 0, 0, 0, 0, 1, 0, 0, 1, 0, 1, 0, 0, 0, 1, 0, 0, 0, 0,\n",
       "       0, 1, 0, 0, 0, 0, 1, 0, 1, 0, 1, 0, 0, 0, 0, 0, 1, 1, 1, 1, 1, 1,\n",
       "       1, 0, 0, 0, 1, 1, 1, 1, 0, 0, 0, 0, 1, 0, 1, 1, 0, 1, 1, 1, 1, 1,\n",
       "       1, 1, 0, 0, 0, 0, 0, 0, 0, 1, 1, 1, 0, 1, 1, 0, 0, 1, 1, 1, 1, 0,\n",
       "       0, 0, 1, 1, 0, 0, 1, 0, 0, 1, 0, 0, 1, 0, 0, 0, 0, 0, 0, 0, 0, 0,\n",
       "       0, 1, 0, 0, 0, 0, 0, 0, 0, 0, 0, 1, 0, 0, 0, 0, 0, 0, 0, 0, 0, 0,\n",
       "       0, 0, 0, 0, 0, 1, 1, 0, 1, 1, 0, 0, 0, 0, 1, 0, 0, 1, 0, 1, 0, 1,\n",
       "       1, 1, 0, 0, 0, 0, 0, 0, 0, 1, 0, 1, 1, 1, 0, 1, 0, 1, 0, 0, 0, 0,\n",
       "       1, 1, 1, 0, 0, 0, 0, 0, 0, 0, 1, 0, 1, 0, 1, 1, 0, 1, 0, 0, 0, 0,\n",
       "       0, 0, 1, 0, 0, 0, 0, 0, 0, 0, 0, 1, 0, 0, 0, 1, 0, 1, 0, 1, 0, 0,\n",
       "       0, 1, 1, 0, 1, 1, 1, 1, 1, 0, 1, 1, 1, 1, 0, 0, 0, 0, 0, 1, 1, 0,\n",
       "       0, 1, 0, 1, 0, 0, 0, 1, 0, 0, 1, 1, 0, 1, 1, 1, 0, 0, 1, 1, 1, 1,\n",
       "       1, 0, 0, 0, 0, 0, 0, 0, 0, 0, 1, 0, 0, 0, 0, 1, 0, 0, 0, 0, 1, 0,\n",
       "       1, 0, 0, 0, 0, 0, 0, 0, 1, 1, 0, 0, 0, 0, 0, 0, 0, 0, 0, 0, 1, 0,\n",
       "       1, 1, 0, 0, 0, 0, 0, 1, 0, 0, 0, 0, 0, 0, 0, 0, 0, 0, 1, 0, 0, 0,\n",
       "       0, 0, 0, 0, 0, 0, 0, 0, 0, 0, 0, 0, 0, 0, 0, 0, 0, 1, 0, 1, 0, 0,\n",
       "       0, 0, 0, 0, 0, 0, 0, 0, 0, 0, 0, 1, 1, 0, 0, 0, 0, 1, 1, 1, 1, 0,\n",
       "       1, 0, 1, 1, 0, 1, 0, 0, 1, 0, 0, 0, 0, 0, 0, 0, 1, 0, 0, 0, 0, 0,\n",
       "       0, 0, 0, 0, 1, 0, 0, 0, 0, 0, 0, 0, 0, 0, 0, 1, 0, 0, 0, 0, 0, 0,\n",
       "       0, 0, 0, 0, 0, 0, 0, 0, 0, 0, 0, 0, 0, 0, 0, 0, 0, 0, 0, 0, 0, 1,\n",
       "       0, 0, 0, 0, 0, 1, 0, 0, 0, 1, 0, 1, 0, 0, 0, 0, 0, 0, 0, 0, 0, 0,\n",
       "       0, 0, 0, 0, 0, 0, 0, 1, 0, 0, 0, 0, 0, 0, 0, 0, 0, 0, 0, 0, 0, 0,\n",
       "       0, 0, 0, 0, 0, 1, 0, 0, 0, 0, 0])"
      ]
     },
     "execution_count": 45,
     "metadata": {},
     "output_type": "execute_result"
    }
   ],
   "source": [
    "from sklearn.tree import DecisionTreeClassifier, plot_tree\n",
    "model3=DecisionTreeClassifier(max_depth=20, min_samples_split=0.1,min_samples_leaf=0.1, criterion=\"entropy\",max_features='auto')\n",
    "model3.fit(X_train,Y_train)\n",
    "pred2=model3.predict(X_test)\n",
    "pred2"
   ]
  },
  {
   "cell_type": "code",
   "execution_count": 46,
   "id": "46c5810f",
   "metadata": {},
   "outputs": [
    {
     "name": "stdout",
     "output_type": "stream",
     "text": [
      "              precision    recall  f1-score   support\n",
      "\n",
      "           0       0.51      0.73      0.60       327\n",
      "           1       0.52      0.30      0.38       322\n",
      "\n",
      "    accuracy                           0.52       649\n",
      "   macro avg       0.52      0.51      0.49       649\n",
      "weighted avg       0.52      0.52      0.49       649\n",
      "\n"
     ]
    }
   ],
   "source": [
    "from sklearn.metrics import classification_report,confusion_matrix, ConfusionMatrixDisplay\n",
    "print(classification_report(Y_test,pred2))"
   ]
  },
  {
   "cell_type": "code",
   "execution_count": 47,
   "id": "b1840f9b",
   "metadata": {},
   "outputs": [
    {
     "data": {
      "text/plain": [
       "array([[239,  88],\n",
       "       [226,  96]])"
      ]
     },
     "execution_count": 47,
     "metadata": {},
     "output_type": "execute_result"
    }
   ],
   "source": [
    "cm=confusion_matrix(Y_test,pred2,labels=[0,1])\n",
    "cm"
   ]
  },
  {
   "cell_type": "code",
   "execution_count": 48,
   "id": "f8445332",
   "metadata": {},
   "outputs": [
    {
     "data": {
      "text/plain": [
       "Text(33.0, 0.5, 'true')"
      ]
     },
     "execution_count": 48,
     "metadata": {},
     "output_type": "execute_result"
    },
    {
     "data": {
      "image/png": "[encoded data removed]",
      "text/plain": [
       "<Figure size 432x288 with 2 Axes>"
      ]
     },
     "metadata": {
      "needs_background": "light"
     },
     "output_type": "display_data"
    }
   ],
   "source": [
    "import seaborn as sn\n",
    "ax = sn.heatmap(cm,annot=True,fmt='.20g',cmap=\"Blues\")\n",
    "ax.set_title('confusion matrix 1') #title\n",
    "ax.set_xlabel('predict') #x axis\n",
    "ax.set_ylabel('true') #y axis"
   ]
  },
  {
   "cell_type": "code",
   "execution_count": null,
   "id": "34f2046c",
   "metadata": {},
   "outputs": [],
   "source": []
  }
 ],
 "metadata": {
  "kernelspec": {
   "display_name": "Python 3 (ipykernel)",
   "language": "python",
   "name": "python3"
  },
  "language_info": {
   "codemirror_mode": {
    "name": "ipython",
    "version": 3
   },
   "file_extension": ".py",
   "mimetype": "text/x-python",
   "name": "python",
   "nbconvert_exporter": "python",
   "pygments_lexer": "ipython3",
   "version": "3.9.7"
  }
 },
 "nbformat": 4,
 "nbformat_minor": 5
}
